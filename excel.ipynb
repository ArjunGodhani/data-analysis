{
 "cells": [
  {
   "cell_type": "code",
   "execution_count": 3,
   "metadata": {},
   "outputs": [
    {
     "name": "stdout",
     "output_type": "stream",
     "text": [
      "CSV File Generated.\n"
     ]
    }
   ],
   "source": [
    "from numpy import False_\n",
    "import pandas as pd\n",
    "\n",
    "# Create DataFrame\n",
    "i = pd.DataFrame({\n",
    "    'name': ['john', 'smith', 'andy', 'smith'],\n",
    "    'age': [18, 22, 30, 25],\n",
    "    'marks': [89, 92, 61, 77],\n",
    "    'grade': ['a', 'a', 'c', 'b']\n",
    "})\n",
    "\n",
    "# Write DataFrame to a CSV file\n",
    "i.to_csv('hello3.csv')\n",
    "\n",
    "print('CSV File Generated.')\n"
   ]
  }
 ],
 "metadata": {
  "kernelspec": {
   "display_name": "Python 3",
   "language": "python",
   "name": "python3"
  },
  "language_info": {
   "codemirror_mode": {
    "name": "ipython",
    "version": 3
   },
   "file_extension": ".py",
   "mimetype": "text/x-python",
   "name": "python",
   "nbconvert_exporter": "python",
   "pygments_lexer": "ipython3",
   "version": "3.12.0"
  }
 },
 "nbformat": 4,
 "nbformat_minor": 2
}
